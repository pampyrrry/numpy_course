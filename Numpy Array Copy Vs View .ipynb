{
 "cells": [
  {
   "cell_type": "code",
   "execution_count": 4,
   "id": "ef443a3e",
   "metadata": {},
   "outputs": [],
   "source": [
    "import numpy as np"
   ]
  },
  {
   "cell_type": "code",
   "execution_count": 11,
   "id": "201117ce",
   "metadata": {
    "scrolled": true
   },
   "outputs": [
    {
     "data": {
      "text/plain": [
       "array([0, 1, 2, 3, 4, 5, 6, 7, 8])"
      ]
     },
     "execution_count": 11,
     "metadata": {},
     "output_type": "execute_result"
    }
   ],
   "source": [
    "# Copy vs. View - copy jest nową tablicą, view jest tylko obrazem oryginału. View zmienia sie wraz ze zmianą obrazu \n",
    "# obraz również moze sie zmienić jeśli zmian dokonamy w view. \n",
    "np1 = np.array([0,1,2,3,4,5,6,7,8])\n",
    "np1"
   ]
  },
  {
   "cell_type": "code",
   "execution_count": 13,
   "id": "5a5bbae9",
   "metadata": {},
   "outputs": [
    {
     "name": "stdout",
     "output_type": "stream",
     "text": [
      "[41  1  2  3  4  5  6  7  8]\n",
      "[41  1  2  3  4  5  6  7  8]\n"
     ]
    }
   ],
   "source": [
    "\n",
    "# Create a view \n",
    "np2 = np1.view()\n",
    "np1[0] = 41\n",
    "print(np2)\n",
    "print(np1)"
   ]
  },
  {
   "cell_type": "code",
   "execution_count": 9,
   "id": "36aecbd8",
   "metadata": {},
   "outputs": [
    {
     "name": "stdout",
     "output_type": "stream",
     "text": [
      "NP1 [0 1 2 3 4 5 6 7 8]\n",
      "NP2 [0 1 2 3 4 5 6 7 8]\n",
      "------------------------------\n",
      "NP1 [0 1 2 3 4 5 6 7 8]\n",
      "NP2 [42  1  2  3  4  5  6  7  8]\n"
     ]
    }
   ],
   "source": [
    "# Create a copy\n",
    "np1 = np.array([0,1,2,3,4,5,6,7,8])\n",
    "np2 = np1.copy()\n",
    "print (f\"NP1 {np1}\")\n",
    "print (f\"NP2 {np2}\")\n",
    "np2[0] = 42\n",
    "print(30*(\"-\"))\n",
    "print (f\"NP1 {np1}\")\n",
    "print (f\"NP2 {np2}\")"
   ]
  },
  {
   "cell_type": "code",
   "execution_count": null,
   "id": "436005dd",
   "metadata": {},
   "outputs": [],
   "source": []
  },
  {
   "cell_type": "code",
   "execution_count": null,
   "id": "2f914bf7",
   "metadata": {},
   "outputs": [],
   "source": []
  },
  {
   "cell_type": "code",
   "execution_count": null,
   "id": "ff6e2627",
   "metadata": {},
   "outputs": [],
   "source": []
  },
  {
   "cell_type": "code",
   "execution_count": null,
   "id": "4fa46d01",
   "metadata": {},
   "outputs": [],
   "source": []
  }
 ],
 "metadata": {
  "kernelspec": {
   "display_name": "Python 3 (ipykernel)",
   "language": "python",
   "name": "python3"
  },
  "language_info": {
   "codemirror_mode": {
    "name": "ipython",
    "version": 3
   },
   "file_extension": ".py",
   "mimetype": "text/x-python",
   "name": "python",
   "nbconvert_exporter": "python",
   "pygments_lexer": "ipython3",
   "version": "3.11.4"
  }
 },
 "nbformat": 4,
 "nbformat_minor": 5
}
