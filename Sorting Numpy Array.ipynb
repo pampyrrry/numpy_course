{
 "cells": [
  {
   "cell_type": "code",
   "execution_count": 1,
   "id": "ecbd2063",
   "metadata": {},
   "outputs": [],
   "source": [
    "import numpy as np"
   ]
  },
  {
   "cell_type": "code",
   "execution_count": 2,
   "id": "3a58ef2c",
   "metadata": {},
   "outputs": [
    {
     "data": {
      "text/plain": [
       "array([1, 2, 3, 4, 6, 7, 9])"
      ]
     },
     "execution_count": 2,
     "metadata": {},
     "output_type": "execute_result"
    }
   ],
   "source": [
    "# np.sort() Numerical\n",
    "np1 = np.array([6,7,4,1,3,9,2])\n",
    "np.sort(np1)"
   ]
  },
  {
   "cell_type": "code",
   "execution_count": 4,
   "id": "8cb51408",
   "metadata": {},
   "outputs": [
    {
     "data": {
      "text/plain": [
       "array(['Eric', 'John', 'Tina', 'Xavier', 'Xaviers'], dtype='<U7')"
      ]
     },
     "execution_count": 4,
     "metadata": {},
     "output_type": "execute_result"
    }
   ],
   "source": [
    "# np.sort (alphabetical)\n",
    "np2 = np.array([\"John\", \"Tina\", \"Eric\", \"Xavier\", \"Xaviers\"])\n",
    "np.sort(np2)"
   ]
  },
  {
   "cell_type": "code",
   "execution_count": 6,
   "id": "8dcb1a2a",
   "metadata": {},
   "outputs": [
    {
     "data": {
      "text/plain": [
       "array([False, False,  True,  True])"
      ]
     },
     "execution_count": 6,
     "metadata": {},
     "output_type": "execute_result"
    }
   ],
   "source": [
    "# Booleans T/F\n",
    "np3 = np.array([True, False, False, True])\n",
    "np.sort(np3)"
   ]
  },
  {
   "cell_type": "code",
   "execution_count": 8,
   "id": "4631bd77",
   "metadata": {},
   "outputs": [
    {
     "name": "stdout",
     "output_type": "stream",
     "text": [
      "[6 7 4 1 3 9 2]\n",
      "[1 2 3 4 6 7 9]\n",
      "[6 7 4 1 3 9 2]\n"
     ]
    }
   ],
   "source": [
    "# Return a copy not change the orginal\n",
    "print(np1)\n",
    "print(np.sort(np1))\n",
    "print(np1)"
   ]
  },
  {
   "cell_type": "code",
   "execution_count": 9,
   "id": "08f140a9",
   "metadata": {},
   "outputs": [
    {
     "name": "stdout",
     "output_type": "stream",
     "text": [
      "[[6 7 1 9]\n",
      " [8 3 5 0]]\n",
      "[[1 6 7 9]\n",
      " [0 3 5 8]]\n"
     ]
    }
   ],
   "source": [
    "# 2D \n",
    "np4 = np.array([[6,7,1,9],[8,3,5,0]])\n",
    "print(np4)\n",
    "print(np.sort(np4))"
   ]
  },
  {
   "cell_type": "code",
   "execution_count": null,
   "id": "c908b709",
   "metadata": {},
   "outputs": [],
   "source": []
  }
 ],
 "metadata": {
  "kernelspec": {
   "display_name": "Python 3 (ipykernel)",
   "language": "python",
   "name": "python3"
  },
  "language_info": {
   "codemirror_mode": {
    "name": "ipython",
    "version": 3
   },
   "file_extension": ".py",
   "mimetype": "text/x-python",
   "name": "python",
   "nbconvert_exporter": "python",
   "pygments_lexer": "ipython3",
   "version": "3.11.4"
  }
 },
 "nbformat": 4,
 "nbformat_minor": 5
}
