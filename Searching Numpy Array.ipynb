{
 "cells": [
  {
   "cell_type": "code",
   "execution_count": 1,
   "id": "6e805ba1",
   "metadata": {},
   "outputs": [],
   "source": [
    "import numpy as np"
   ]
  },
  {
   "cell_type": "code",
   "execution_count": 7,
   "id": "a6972d9b",
   "metadata": {},
   "outputs": [
    {
     "name": "stdout",
     "output_type": "stream",
     "text": [
      "(array([ 2, 10]),)\n",
      "[ 2 10]\n"
     ]
    },
    {
     "data": {
      "text/plain": [
       "(array([ 2, 10]),)"
      ]
     },
     "execution_count": 7,
     "metadata": {},
     "output_type": "execute_result"
    }
   ],
   "source": [
    "# Search\n",
    "np1 = np.array([1,2,3,4,5,6,7,8,9,10])\n",
    "x = np.where(np1==3)\n",
    "print(x)\n",
    "print(x[0])\n",
    "x"
   ]
  },
  {
   "cell_type": "code",
   "execution_count": 11,
   "id": "499a6850",
   "metadata": {},
   "outputs": [
    {
     "name": "stdout",
     "output_type": "stream",
     "text": [
      "(array([ 2, 10]),)\n",
      "[ 2 10]\n"
     ]
    },
    {
     "data": {
      "text/plain": [
       "(array([ 2, 10]),)"
      ]
     },
     "execution_count": 11,
     "metadata": {},
     "output_type": "execute_result"
    }
   ],
   "source": [
    "# Search - adding second 3\n",
    "np1 = np.array([1,2,3,4,5,6,7,8,9,10, 3])\n",
    "x = np.where(np1==3)\n",
    "print(x)\n",
    "print(x[0])\n",
    "x"
   ]
  },
  {
   "cell_type": "code",
   "execution_count": 13,
   "id": "999ee71a",
   "metadata": {},
   "outputs": [
    {
     "name": "stdout",
     "output_type": "stream",
     "text": [
      "(array([ 2, 10]),)\n",
      "[ 2 10]\n",
      "[3 3]\n"
     ]
    }
   ],
   "source": [
    "# Returne value (3)\n",
    "# Search\n",
    "np1 = np.array([1,2,3,4,5,6,7,8,9,10,3])\n",
    "x = np.where(np1==3)\n",
    "print(x)\n",
    "print(x[0])\n",
    "print(np1[x[0]])"
   ]
  },
  {
   "cell_type": "code",
   "execution_count": 17,
   "id": "6e47ffc3",
   "metadata": {},
   "outputs": [
    {
     "name": "stdout",
     "output_type": "stream",
     "text": [
      "[ 1  2  3  4  5  6  7  8  9 10  3]\n",
      "[1 3 5 7 9]\n",
      "[ 2  4  6  8 10]\n"
     ]
    }
   ],
   "source": [
    "# Returne even items\n",
    "y = np.where(np1 % 2 == 0)\n",
    "print (np1)\n",
    "print (y[0])\n",
    "print (np1[y[0]])"
   ]
  },
  {
   "cell_type": "code",
   "execution_count": 18,
   "id": "1a36d3c4",
   "metadata": {},
   "outputs": [
    {
     "name": "stdout",
     "output_type": "stream",
     "text": [
      "[ 1  2  3  4  5  6  7  8  9 10  3]\n",
      "[ 0  2  4  6  8 10]\n",
      "[1 3 5 7 9 3]\n"
     ]
    }
   ],
   "source": [
    "# Return odd items\n",
    "z = np.where(np1 % 2 == 1)\n",
    "print (np1)\n",
    "print (z[0])\n",
    "print (np1[z[0]])"
   ]
  },
  {
   "cell_type": "code",
   "execution_count": null,
   "id": "7c37b0ca",
   "metadata": {},
   "outputs": [],
   "source": []
  }
 ],
 "metadata": {
  "kernelspec": {
   "display_name": "Python 3 (ipykernel)",
   "language": "python",
   "name": "python3"
  },
  "language_info": {
   "codemirror_mode": {
    "name": "ipython",
    "version": 3
   },
   "file_extension": ".py",
   "mimetype": "text/x-python",
   "name": "python",
   "nbconvert_exporter": "python",
   "pygments_lexer": "ipython3",
   "version": "3.11.4"
  }
 },
 "nbformat": 4,
 "nbformat_minor": 5
}
