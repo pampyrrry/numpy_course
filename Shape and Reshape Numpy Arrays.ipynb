{
 "cells": [
  {
   "cell_type": "code",
   "execution_count": 1,
   "id": "e3c68c64",
   "metadata": {},
   "outputs": [],
   "source": [
    "import numpy as np"
   ]
  },
  {
   "cell_type": "code",
   "execution_count": 6,
   "id": "50849f9e",
   "metadata": {},
   "outputs": [
    {
     "name": "stdout",
     "output_type": "stream",
     "text": [
      "[ 1  2  3  4  5  6  7  8  9 10 11 12]\n",
      "(12,)\n"
     ]
    }
   ],
   "source": [
    "# Create 1-D Numpy Array and Get Shape\n",
    "np1 = np.array([1,2,3,4,5,6,7,8,9,10,11,12])\n",
    "print (np1)\n",
    "print (np1.shape)"
   ]
  },
  {
   "cell_type": "code",
   "execution_count": 8,
   "id": "5985bbcd",
   "metadata": {},
   "outputs": [
    {
     "name": "stdout",
     "output_type": "stream",
     "text": [
      "[[ 1  2  3  4  5  6]\n",
      " [ 7  8  9 10 11 12]]\n",
      "(2, 6)\n"
     ]
    }
   ],
   "source": [
    "# Create 2-D Numpy Array and Get Shape, (rows, columns-elements)\n",
    "np2 = np.array([[1,2,3,4,5,6],[7,8,9,10,11,12]])\n",
    "print (np2)\n",
    "print (np2.shape) # Zwraca (2,6) - dwa rzędy i 6 kolumn/elementow"
   ]
  },
  {
   "cell_type": "code",
   "execution_count": 10,
   "id": "fbd639eb",
   "metadata": {},
   "outputs": [
    {
     "name": "stdout",
     "output_type": "stream",
     "text": [
      "[[ 1  2  3  4]\n",
      " [ 5  6  7  8]\n",
      " [ 9 10 11 12]]\n",
      "(3, 4)\n"
     ]
    }
   ],
   "source": [
    "# Reshape 2-D\n",
    "np3 = np1.reshape(3,4) # zwraca 12 elementów w 3 rzędach po 4 elementy\n",
    "print (np3)\n",
    "print (np3.shape)"
   ]
  },
  {
   "cell_type": "code",
   "execution_count": 11,
   "id": "31347701",
   "metadata": {},
   "outputs": [
    {
     "name": "stdout",
     "output_type": "stream",
     "text": [
      "[[[ 1  2]\n",
      "  [ 3  4]\n",
      "  [ 5  6]]\n",
      "\n",
      " [[ 7  8]\n",
      "  [ 9 10]\n",
      "  [11 12]]]\n",
      "(2, 3, 2)\n"
     ]
    }
   ],
   "source": [
    "# Reshape 3-D\n",
    "np4 = np1.reshape(2,3,2)\n",
    "print (np4)\n",
    "print (np4.shape)"
   ]
  },
  {
   "cell_type": "code",
   "execution_count": null,
   "id": "4893f9e8",
   "metadata": {},
   "outputs": [],
   "source": [
    "# Flatten to 1-D"
   ]
  }
 ],
 "metadata": {
  "kernelspec": {
   "display_name": "Python 3 (ipykernel)",
   "language": "python",
   "name": "python3"
  },
  "language_info": {
   "codemirror_mode": {
    "name": "ipython",
    "version": 3
   },
   "file_extension": ".py",
   "mimetype": "text/x-python",
   "name": "python",
   "nbconvert_exporter": "python",
   "pygments_lexer": "ipython3",
   "version": "3.11.4"
  }
 },
 "nbformat": 4,
 "nbformat_minor": 5
}
