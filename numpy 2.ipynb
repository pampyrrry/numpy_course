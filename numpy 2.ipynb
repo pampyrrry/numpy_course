{
 "cells": [
  {
   "cell_type": "code",
   "execution_count": 2,
   "id": "32bba15c",
   "metadata": {},
   "outputs": [],
   "source": [
    "import numpy as np\n"
   ]
  },
  {
   "cell_type": "raw",
   "id": "4de2a40e",
   "metadata": {},
   "source": [
    "# Slicing numy arrays\n",
    "np1 = np.array([1,2,3,4,5,6,7,8,9])\n",
    "# Return 2,3,4,5\n",
    "print (np1[1:5])"
   ]
  },
  {
   "cell_type": "code",
   "execution_count": 4,
   "id": "05d0c585",
   "metadata": {},
   "outputs": [
    {
     "name": "stdout",
     "output_type": "stream",
     "text": [
      "[4 5 6 7 8 9]\n"
     ]
    }
   ],
   "source": [
    "# Return from something till the end of the array?\n",
    "print (np1[3:])"
   ]
  },
  {
   "cell_type": "code",
   "execution_count": 5,
   "id": "e40403ad",
   "metadata": {},
   "outputs": [
    {
     "name": "stdout",
     "output_type": "stream",
     "text": [
      "[7 8]\n"
     ]
    }
   ],
   "source": [
    "# Retutrn negative slices \n",
    "print(np1[-3:-1])"
   ]
  },
  {
   "cell_type": "code",
   "execution_count": 6,
   "id": "1e4967a1",
   "metadata": {},
   "outputs": [
    {
     "data": {
      "text/plain": [
       "array([2, 4])"
      ]
     },
     "execution_count": 6,
     "metadata": {},
     "output_type": "execute_result"
    }
   ],
   "source": [
    "# Steps \n",
    "np1[1:5:2] # 2-5 w krokach co 2"
   ]
  },
  {
   "cell_type": "code",
   "execution_count": 7,
   "id": "5a02911d",
   "metadata": {},
   "outputs": [
    {
     "data": {
      "text/plain": [
       "array([1, 3, 5, 7, 9])"
      ]
     },
     "execution_count": 7,
     "metadata": {},
     "output_type": "execute_result"
    }
   ],
   "source": [
    "# Steps on the entire array\n",
    "np1[::2] # wszystkie elementy w kroku co 2"
   ]
  },
  {
   "cell_type": "code",
   "execution_count": 9,
   "id": "45479d0a",
   "metadata": {},
   "outputs": [
    {
     "data": {
      "text/plain": [
       "8"
      ]
     },
     "execution_count": 9,
     "metadata": {},
     "output_type": "execute_result"
    }
   ],
   "source": [
    "# 2D array\n",
    "np2 = np.array([[1,2,3,4,5],[6,7,8,9,10]])\n",
    "\n",
    "# Pull out a single item\n",
    "np2[1,2] # z drugiej tabeli (1) wyciągnij trzeci element (2)\n"
   ]
  },
  {
   "cell_type": "code",
   "execution_count": 13,
   "id": "8c6bd2f5",
   "metadata": {},
   "outputs": [
    {
     "data": {
      "text/plain": [
       "array([[2, 3]])"
      ]
     },
     "execution_count": 13,
     "metadata": {},
     "output_type": "execute_result"
    }
   ],
   "source": [
    "# Slice a 2D array\n",
    "np2[0:1, 1:3] # z tablicy 1 (0:1)- czyli wez pierwszą tablice ale drugiej juz nie, wyciągniej z niej 2 element do 3"
   ]
  },
  {
   "cell_type": "code",
   "execution_count": 15,
   "id": "e3ed7645",
   "metadata": {},
   "outputs": [
    {
     "data": {
      "text/plain": [
       "array([[2, 3],\n",
       "       [7, 8]])"
      ]
     },
     "execution_count": 15,
     "metadata": {},
     "output_type": "execute_result"
    }
   ],
   "source": [
    "# Slice from  both rows\n",
    "np2[0:2, 1:3] # wyciągnij z obydwu tablic drugi i trzeci element"
   ]
  },
  {
   "cell_type": "code",
   "execution_count": null,
   "id": "6941d9f3",
   "metadata": {},
   "outputs": [],
   "source": []
  }
 ],
 "metadata": {
  "kernelspec": {
   "display_name": "Python 3 (ipykernel)",
   "language": "python",
   "name": "python3"
  },
  "language_info": {
   "codemirror_mode": {
    "name": "ipython",
    "version": 3
   },
   "file_extension": ".py",
   "mimetype": "text/x-python",
   "name": "python",
   "nbconvert_exporter": "python",
   "pygments_lexer": "ipython3",
   "version": "3.11.4"
  }
 },
 "nbformat": 4,
 "nbformat_minor": 5
}
